{
 "cells": [
  {
   "cell_type": "code",
   "execution_count": 1,
   "metadata": {
    "id": "1hWrDWfMSbNA"
   },
   "outputs": [],
   "source": [
    "# Import libraries\n",
    "import pandas as pd\n",
    "import numpy as np\n",
    "import matplotlib.pyplot as plt\n",
    "import json\n",
    "import os\n",
    "from tqdm import tqdm, tqdm_notebook\n",
    "import random\n",
    "\n",
    "import tensorflow as tf\n",
    "\n",
    "from tensorflow.keras.preprocessing.image import ImageDataGenerator\n",
    "from tensorflow.keras.models import Model, Sequential\n",
    "from tensorflow.keras.layers import *\n",
    "from tensorflow.keras.optimizers import *\n",
    "from tensorflow.keras.applications import *\n",
    "from tensorflow.keras.callbacks import *\n",
    "from tensorflow.keras.initializers import *\n",
    "\n",
    "#You can import other libraries if you want\n",
    "from tensorflow import keras"
   ]
  },
  {
   "cell_type": "code",
   "execution_count": 2,
   "metadata": {
    "colab": {
     "base_uri": "https://localhost:8080/"
    },
    "id": "4CVNkXn1SfZx",
    "outputId": "17a68297-14e4-4613-8ecb-ac6f13e70bfc"
   },
   "outputs": [
    {
     "name": "stdout",
     "output_type": "stream",
     "text": [
      "Mounted at /content/drive/\n"
     ]
    }
   ],
   "source": [
    "from google.colab import drive\n",
    "drive.mount(\"/content/drive/\")"
   ]
  },
  {
   "cell_type": "code",
   "execution_count": 3,
   "metadata": {
    "colab": {
     "base_uri": "https://localhost:8080/"
    },
    "id": "2r4D1djGUa91",
    "outputId": "ddf9cf6d-b2c5-4def-84bf-c4ad1bf9d5cc"
   },
   "outputs": [
    {
     "name": "stdout",
     "output_type": "stream",
     "text": [
      "/content/drive/My Drive/AIP2\n"
     ]
    }
   ],
   "source": [
    "cd 'drive/My Drive/AIP2'"
   ]
  },
  {
   "cell_type": "code",
   "execution_count": 4,
   "metadata": {
    "id": "xENn20c1SbNI"
   },
   "outputs": [],
   "source": [
    "###### DO NOT MODIFY THIS PART\n",
    "seed = 42\n",
    "os.environ['PYTHONHASHSEED'] = str(seed)\n",
    "np.random.seed(seed)\n",
    "tf.random.set_seed(seed)\n",
    "random.seed(seed)\n",
    "from keras import backend as K\n",
    "session_conf = tf.compat.v1.ConfigProto(intra_op_parallelism_threads=1, inter_op_parallelism_threads=1)\n",
    "sess = tf.compat.v1.Session(graph=tf.compat.v1.get_default_graph(), config=session_conf)\n",
    "tf.compat.v1.keras.backend.set_session(sess)\n",
    "######"
   ]
  },
  {
   "cell_type": "code",
   "execution_count": 5,
   "metadata": {
    "id": "VRVXXkvzSbNK"
   },
   "outputs": [],
   "source": [
    "artists = pd.read_csv('./train/artists.csv')\n",
    "# Sort artists by number of paintings\n",
    "artists = artists.sort_values(by=['paintings'], ascending=False)\n",
    "\n",
    "# Create a dataframe with artists having more than 200 paintings\n",
    "artists_top = artists[artists['paintings'] >= 0].reset_index()\n",
    "artists_top = artists_top[['name', 'paintings']]\n",
    "\n",
    "# Create class weight since the data is imballanced\n",
    "artists_top['class_weight'] = artists_top.paintings.sum() / (artists_top.shape[0] * artists_top.paintings)\n",
    "\n",
    "updated_name = \"Albrecht_Dürer\".replace(\"_\", \" \")\n",
    "artists_top.iloc[4, 0] = updated_name"
   ]
  },
  {
   "cell_type": "code",
   "execution_count": 6,
   "metadata": {
    "colab": {
     "base_uri": "https://localhost:8080/"
    },
    "id": "MI9nbCrkSbNL",
    "outputId": "d4f60e85-b367-40dd-af5f-b4e2d7b0d703"
   },
   "outputs": [
    {
     "name": "stdout",
     "output_type": "stream",
     "text": [
      "find --> ./train/images/Vincent_van_Gogh\n",
      "find --> ./train/images/Edgar_Degas\n",
      "find --> ./train/images/Pablo_Picasso\n",
      "find --> ./train/images/Pierre-Auguste_Renoir\n",
      "find --> ./train/images/Albrecht_Dürer\n",
      "find --> ./train/images/Paul_Gauguin\n",
      "find --> ./train/images/Francisco_Goya\n",
      "find --> ./train/images/Rembrandt\n",
      "find --> ./train/images/Alfred_Sisley\n",
      "find --> ./train/images/Titian\n",
      "find --> ./train/images/Marc_Chagall\n"
     ]
    }
   ],
   "source": [
    "# Explore images of top artists\n",
    "images_dir = './train/images' #Type Your Own Data Directory\n",
    "artists_dirs = os.listdir(images_dir)\n",
    "artists_top_name = artists_top['name'].str.replace(' ', '_').values\n",
    "\n",
    "# See if all directories exist\n",
    "for name in artists_top_name:\n",
    "    if os.path.exists(os.path.join(images_dir, name)):\n",
    "        print(\"find -->\", os.path.join(images_dir, name))\n",
    "    else:\n",
    "        print(\"Did not find -->\", os.path.join(images_dir, name))"
   ]
  },
  {
   "cell_type": "code",
   "execution_count": 7,
   "metadata": {
    "colab": {
     "base_uri": "https://localhost:8080/"
    },
    "id": "X9WR4UoKSbNN",
    "outputId": "5f0831d7-2e52-4cf3-ab64-5a18c1d9711b"
   },
   "outputs": [
    {
     "name": "stdout",
     "output_type": "stream",
     "text": [
      "Found 3092 images belonging to 11 classes.\n",
      "Found 767 images belonging to 11 classes.\n",
      "Total number of batches = 193 and 47\n"
     ]
    }
   ],
   "source": [
    "batch_size = 16 #Type your own batch size\n",
    "input_shape = (224, 224, 3,) #Type your own input shape\n",
    "n_classes = artists_top.shape[0]\n",
    "\n",
    "# Class_weights -> dict to fit in the training.\n",
    "class_weights = artists_top['class_weight'].to_dict()\n",
    "\n",
    "#Image data generate with validation data fraction of 0.2, data rescale 1/255 and flip both ways.\n",
    "train_datagen = ImageDataGenerator(validation_split=0.2,\n",
    "                                   rescale = 1 / 255,\n",
    "                                   shear_range = 5,\n",
    "                                   horizontal_flip=True,\n",
    "                                   vertical_flip=True)\n",
    "\n",
    "train_generator = train_datagen.flow_from_directory(directory=images_dir,\n",
    "                                                    class_mode='categorical',\n",
    "                                                    target_size=input_shape[:2],\n",
    "                                                    batch_size=batch_size,\n",
    "                                                    subset=\"training\",\n",
    "                                                    shuffle=True,\n",
    "                                                    classes=artists_top_name.tolist()\n",
    "                                                   )\n",
    "\n",
    "valid_generator = train_datagen.flow_from_directory(directory=images_dir,\n",
    "                                                    class_mode='categorical',\n",
    "                                                    target_size=input_shape[:2],\n",
    "                                                    batch_size=batch_size,\n",
    "                                                    subset=\"validation\",\n",
    "                                                    shuffle=True,\n",
    "                                                    classes=artists_top_name.tolist()\n",
    "                                                   )\n",
    "\n",
    "STEP_SIZE_TRAIN = train_generator.n//train_generator.batch_size\n",
    "STEP_SIZE_VALID = valid_generator.n//valid_generator.batch_size\n",
    "print(\"Total number of batches =\", STEP_SIZE_TRAIN, \"and\", STEP_SIZE_VALID)"
   ]
  },
  {
   "cell_type": "code",
   "execution_count": 8,
   "metadata": {
    "id": "c9s0y-7svDBj"
   },
   "outputs": [],
   "source": [
    "# Residual unit of Resnet50 according to the lecture.\n",
    "class ResidualUnit50(Layer):\n",
    "  def __init__(self, filters, strides = 1, activation = 'relu', is_first_layer = False, **kwargs):\n",
    "    super().__init__(**kwargs)\n",
    "    self.activation = tf.keras.activations.get(activation)\n",
    "    # The first layer strides only 1 unit\n",
    "    if is_first_layer:\n",
    "      strides = 1\n",
    "    # Add the main convolution layers of the residual unit\n",
    "    self.main_layers = [Conv2D(filters, 1, strides = strides, kernel_initializer='he_normal'),\n",
    "                        BatchNormalization(axis = 3),\n",
    "                        self.activation,\n",
    "                        Conv2D(filters, 3, padding = 'same', kernel_initializer='he_normal'),\n",
    "                        BatchNormalization(axis = 3),\n",
    "                        self.activation,\n",
    "                        Conv2D(4 * filters, 1, kernel_initializer='he_normal'),\n",
    "                        BatchNormalization(axis = 3)]\n",
    "    # Add skip layers\n",
    "    self.skip_layers = []\n",
    "    if strides > 1 or is_first_layer:\n",
    "      self.skip_layers = [Conv2D(4 * filters, 1, strides = strides, kernel_initializer='he_normal'),\n",
    "                          BatchNormalization(axis = 3)]\n",
    "\n",
    "  def call(self, inputs):\n",
    "    Z = inputs\n",
    "    for layer in self.main_layers:\n",
    "      Z = layer(Z)\n",
    "    skip_Z = inputs\n",
    "    for layer in self.skip_layers:\n",
    "      skip_Z = layer(skip_Z)\n",
    "    return self.activation(Z + skip_Z)"
   ]
  },
  {
   "cell_type": "code",
   "execution_count": 9,
   "metadata": {
    "id": "sLQwDAwrSbNP"
   },
   "outputs": [],
   "source": [
    "#######################\n",
    "# Make your own model #\n",
    "####################### \n",
    "model = Sequential()\n",
    "\n",
    "# Input layers\n",
    "model.add(InputLayer(input_shape = input_shape))\n",
    "\n",
    "# Comvolution layers\n",
    "model.add(ZeroPadding2D(padding = (3, 3)))\n",
    "model.add(Conv2D(64, 7, strides = 2, padding = 'valid', kernel_initializer='he_normal'))\n",
    "model.add(BatchNormalization(axis = 3))\n",
    "model.add(Activation('relu'))\n",
    "model.add(ZeroPadding2D(padding = (1, 1)))\n",
    "model.add(MaxPool2D(pool_size = 3, strides = 2))\n",
    "\n",
    "# Resnet50\n",
    "prev_filters = 0\n",
    "for filters in [64] * 3 + [128] * 4 + [256] * 6 + [512] * 3:\n",
    "  strides = 1 if filters == prev_filters else 2\n",
    "  model.add(ResidualUnit50(filters, strides = strides, is_first_layer = (prev_filters == 0)))\n",
    "  prev_filters = filters\n",
    "\n",
    "# Adding dense layers\n",
    "model.add(Flatten())\n",
    "model.add(Dense(512, kernel_initializer='he_uniform'))\n",
    "model.add(BatchNormalization())\n",
    "model.add(Activation('relu'))\n",
    "model.add(Dropout(0.3))\n",
    "model.add(Dense(64, kernel_initializer='he_uniform'))\n",
    "model.add(BatchNormalization())\n",
    "model.add(Activation('relu'))\n",
    "model.add(Dropout(0.3))\n",
    "\n",
    "# Output layer\n",
    "model.add(Dense(n_classes, activation = 'softmax'))\n",
    "\n",
    "optimizer = Adam(learning_rate = 0.0001)  \n",
    "\n",
    "model.compile(loss = 'categorical_crossentropy', optimizer = optimizer, metrics = ['accuracy'])"
   ]
  },
  {
   "cell_type": "code",
   "execution_count": 10,
   "metadata": {
    "colab": {
     "base_uri": "https://localhost:8080/"
    },
    "id": "48vArWM2g3b6",
    "outputId": "08843e00-92fc-4488-8b8f-b9bc5f05c411"
   },
   "outputs": [
    {
     "name": "stdout",
     "output_type": "stream",
     "text": [
      "Model: \"sequential\"\n",
      "_________________________________________________________________\n",
      "Layer (type)                 Output Shape              Param #   \n",
      "=================================================================\n",
      "zero_padding2d (ZeroPadding2 (None, 230, 230, 3)       0         \n",
      "_________________________________________________________________\n",
      "conv2d (Conv2D)              (None, 112, 112, 64)      9472      \n",
      "_________________________________________________________________\n",
      "batch_normalization (BatchNo (None, 112, 112, 64)      256       \n",
      "_________________________________________________________________\n",
      "activation (Activation)      (None, 112, 112, 64)      0         \n",
      "_________________________________________________________________\n",
      "zero_padding2d_1 (ZeroPaddin (None, 114, 114, 64)      0         \n",
      "_________________________________________________________________\n",
      "max_pooling2d (MaxPooling2D) (None, 56, 56, 64)        0         \n",
      "_________________________________________________________________\n",
      "residual_unit50 (ResidualUni (None, 56, 56, 256)       76928     \n",
      "_________________________________________________________________\n",
      "residual_unit50_1 (ResidualU (None, 56, 56, 256)       71552     \n",
      "_________________________________________________________________\n",
      "residual_unit50_2 (ResidualU (None, 56, 56, 256)       71552     \n",
      "_________________________________________________________________\n",
      "residual_unit50_3 (ResidualU (None, 28, 28, 512)       383232    \n",
      "_________________________________________________________________\n",
      "residual_unit50_4 (ResidualU (None, 28, 28, 512)       282368    \n",
      "_________________________________________________________________\n",
      "residual_unit50_5 (ResidualU (None, 28, 28, 512)       282368    \n",
      "_________________________________________________________________\n",
      "residual_unit50_6 (ResidualU (None, 28, 28, 512)       282368    \n",
      "_________________________________________________________________\n",
      "residual_unit50_7 (ResidualU (None, 14, 14, 1024)      1520128   \n",
      "_________________________________________________________________\n",
      "residual_unit50_8 (ResidualU (None, 14, 14, 1024)      1121792   \n",
      "_________________________________________________________________\n",
      "residual_unit50_9 (ResidualU (None, 14, 14, 1024)      1121792   \n",
      "_________________________________________________________________\n",
      "residual_unit50_10 (Residual (None, 14, 14, 1024)      1121792   \n",
      "_________________________________________________________________\n",
      "residual_unit50_11 (Residual (None, 14, 14, 1024)      1121792   \n",
      "_________________________________________________________________\n",
      "residual_unit50_12 (Residual (None, 14, 14, 1024)      1121792   \n",
      "_________________________________________________________________\n",
      "residual_unit50_13 (Residual (None, 7, 7, 2048)        6054912   \n",
      "_________________________________________________________________\n",
      "residual_unit50_14 (Residual (None, 7, 7, 2048)        4471808   \n",
      "_________________________________________________________________\n",
      "residual_unit50_15 (Residual (None, 7, 7, 2048)        4471808   \n",
      "_________________________________________________________________\n",
      "flatten (Flatten)            (None, 100352)            0         \n",
      "_________________________________________________________________\n",
      "dense (Dense)                (None, 512)               51380736  \n",
      "_________________________________________________________________\n",
      "batch_normalization_53 (Batc (None, 512)               2048      \n",
      "_________________________________________________________________\n",
      "activation_1 (Activation)    (None, 512)               0         \n",
      "_________________________________________________________________\n",
      "dropout (Dropout)            (None, 512)               0         \n",
      "_________________________________________________________________\n",
      "dense_1 (Dense)              (None, 64)                32832     \n",
      "_________________________________________________________________\n",
      "batch_normalization_54 (Batc (None, 64)                256       \n",
      "_________________________________________________________________\n",
      "activation_2 (Activation)    (None, 64)                0         \n",
      "_________________________________________________________________\n",
      "dropout_1 (Dropout)          (None, 64)                0         \n",
      "_________________________________________________________________\n",
      "dense_2 (Dense)              (None, 11)                715       \n",
      "=================================================================\n",
      "Total params: 75,004,299\n",
      "Trainable params: 74,950,027\n",
      "Non-trainable params: 54,272\n",
      "_________________________________________________________________\n"
     ]
    }
   ],
   "source": [
    "model.summary()"
   ]
  },
  {
   "cell_type": "code",
   "execution_count": 11,
   "metadata": {
    "colab": {
     "base_uri": "https://localhost:8080/"
    },
    "id": "iQuZ0Yf2SbNQ",
    "outputId": "8a7f1f25-4f94-4562-ffcd-2d7900aba468"
   },
   "outputs": [
    {
     "name": "stderr",
     "output_type": "stream",
     "text": [
      "/usr/local/lib/python3.7/dist-packages/tensorflow/python/keras/engine/training.py:1940: UserWarning: `Model.fit_generator` is deprecated and will be removed in a future version. Please use `Model.fit`, which supports generators.\n",
      "  warnings.warn('`Model.fit_generator` is deprecated and '\n"
     ]
    },
    {
     "name": "stdout",
     "output_type": "stream",
     "text": [
      "WARNING:tensorflow:From /usr/local/lib/python3.7/dist-packages/tensorflow/python/ops/array_ops.py:5049: calling gather (from tensorflow.python.ops.array_ops) with validate_indices is deprecated and will be removed in a future version.\n",
      "Instructions for updating:\n",
      "The `validate_indices` argument has no effect. Indices are always validated on CPU and never validated on GPU.\n",
      "Epoch 1/100\n",
      "193/193 [==============================] - 274s 1s/step - loss: 2.3424 - accuracy: 0.1928 - val_loss: 2.6774 - val_accuracy: 0.1051\n",
      "Epoch 2/100\n",
      "193/193 [==============================] - 136s 678ms/step - loss: 2.0356 - accuracy: 0.2773 - val_loss: 2.3107 - val_accuracy: 0.1835\n",
      "Epoch 3/100\n",
      "193/193 [==============================] - 122s 604ms/step - loss: 1.9052 - accuracy: 0.3056 - val_loss: 2.1867 - val_accuracy: 0.3152\n",
      "Epoch 4/100\n",
      "193/193 [==============================] - 123s 608ms/step - loss: 1.8282 - accuracy: 0.3231 - val_loss: 1.8933 - val_accuracy: 0.3657\n",
      "Epoch 5/100\n",
      "193/193 [==============================] - 123s 605ms/step - loss: 1.7914 - accuracy: 0.3381 - val_loss: 1.9631 - val_accuracy: 0.3590\n",
      "Epoch 6/100\n",
      "193/193 [==============================] - 123s 608ms/step - loss: 1.6966 - accuracy: 0.3664 - val_loss: 1.9808 - val_accuracy: 0.3551\n",
      "Epoch 7/100\n",
      "193/193 [==============================] - 122s 604ms/step - loss: 1.6531 - accuracy: 0.3758 - val_loss: 1.8995 - val_accuracy: 0.4043\n",
      "Epoch 8/100\n",
      "193/193 [==============================] - 124s 614ms/step - loss: 1.6046 - accuracy: 0.3986 - val_loss: 1.7471 - val_accuracy: 0.4016\n",
      "Epoch 9/100\n",
      "193/193 [==============================] - 123s 606ms/step - loss: 1.5590 - accuracy: 0.4350 - val_loss: 1.8184 - val_accuracy: 0.3989\n",
      "Epoch 10/100\n",
      "193/193 [==============================] - 125s 613ms/step - loss: 1.5462 - accuracy: 0.4330 - val_loss: 1.6057 - val_accuracy: 0.4734\n",
      "Epoch 11/100\n",
      "193/193 [==============================] - 125s 617ms/step - loss: 1.4938 - accuracy: 0.4519 - val_loss: 1.6248 - val_accuracy: 0.4774\n",
      "Epoch 12/100\n",
      "193/193 [==============================] - 125s 620ms/step - loss: 1.4753 - accuracy: 0.4561 - val_loss: 1.6819 - val_accuracy: 0.4016\n",
      "Epoch 13/100\n",
      "193/193 [==============================] - 126s 623ms/step - loss: 1.3932 - accuracy: 0.4746 - val_loss: 1.6813 - val_accuracy: 0.4481\n",
      "Epoch 14/100\n",
      "193/193 [==============================] - 125s 615ms/step - loss: 1.4001 - accuracy: 0.4763 - val_loss: 1.5206 - val_accuracy: 0.4721\n",
      "Epoch 15/100\n",
      "193/193 [==============================] - 127s 624ms/step - loss: 1.3920 - accuracy: 0.4789 - val_loss: 1.4827 - val_accuracy: 0.5146\n",
      "Epoch 16/100\n",
      "193/193 [==============================] - 128s 632ms/step - loss: 1.3537 - accuracy: 0.4974 - val_loss: 1.7507 - val_accuracy: 0.4029\n",
      "Epoch 17/100\n",
      "193/193 [==============================] - 141s 703ms/step - loss: 1.3358 - accuracy: 0.4935 - val_loss: 1.3789 - val_accuracy: 0.5173\n",
      "Epoch 18/100\n",
      "193/193 [==============================] - 126s 623ms/step - loss: 1.2893 - accuracy: 0.5091 - val_loss: 1.4722 - val_accuracy: 0.5027\n",
      "Epoch 19/100\n",
      "193/193 [==============================] - 125s 619ms/step - loss: 1.2648 - accuracy: 0.5309 - val_loss: 1.5757 - val_accuracy: 0.4854\n",
      "Epoch 20/100\n",
      "193/193 [==============================] - 125s 617ms/step - loss: 1.2761 - accuracy: 0.5211 - val_loss: 1.5111 - val_accuracy: 0.5066\n",
      "Epoch 21/100\n",
      "193/193 [==============================] - 125s 619ms/step - loss: 1.2254 - accuracy: 0.5354 - val_loss: 1.3883 - val_accuracy: 0.5199\n",
      "Epoch 22/100\n",
      "193/193 [==============================] - 125s 621ms/step - loss: 1.2255 - accuracy: 0.5374 - val_loss: 1.3128 - val_accuracy: 0.5532\n",
      "Epoch 23/100\n",
      "193/193 [==============================] - 126s 621ms/step - loss: 1.1912 - accuracy: 0.5494 - val_loss: 1.4643 - val_accuracy: 0.4987\n",
      "Epoch 24/100\n",
      "193/193 [==============================] - 124s 615ms/step - loss: 1.1977 - accuracy: 0.5647 - val_loss: 1.4400 - val_accuracy: 0.5066\n",
      "Epoch 25/100\n",
      "193/193 [==============================] - 124s 613ms/step - loss: 1.1429 - accuracy: 0.5650 - val_loss: 1.3546 - val_accuracy: 0.5465\n",
      "Epoch 26/100\n",
      "193/193 [==============================] - 123s 612ms/step - loss: 1.1585 - accuracy: 0.5481 - val_loss: 1.3618 - val_accuracy: 0.5226\n",
      "Epoch 27/100\n",
      "193/193 [==============================] - 124s 610ms/step - loss: 1.1094 - accuracy: 0.5751 - val_loss: 1.3987 - val_accuracy: 0.5186\n",
      "\n",
      "Epoch 00027: ReduceLROnPlateau reducing learning rate to 9.999999747378752e-06.\n",
      "Epoch 28/100\n",
      "193/193 [==============================] - 124s 613ms/step - loss: 1.0041 - accuracy: 0.6213 - val_loss: 1.2327 - val_accuracy: 0.5771\n",
      "Epoch 29/100\n",
      "193/193 [==============================] - 124s 612ms/step - loss: 0.9978 - accuracy: 0.6131 - val_loss: 1.2294 - val_accuracy: 0.5758\n",
      "Epoch 30/100\n",
      "193/193 [==============================] - 125s 617ms/step - loss: 0.9870 - accuracy: 0.6268 - val_loss: 1.2166 - val_accuracy: 0.5931\n",
      "Epoch 31/100\n",
      "193/193 [==============================] - 124s 614ms/step - loss: 0.9466 - accuracy: 0.6313 - val_loss: 1.1995 - val_accuracy: 0.6024\n",
      "Epoch 32/100\n",
      "193/193 [==============================] - 124s 611ms/step - loss: 0.9325 - accuracy: 0.6421 - val_loss: 1.1751 - val_accuracy: 0.5971\n",
      "Epoch 33/100\n",
      "193/193 [==============================] - 138s 686ms/step - loss: 0.9008 - accuracy: 0.6573 - val_loss: 1.1996 - val_accuracy: 0.5891\n",
      "Epoch 34/100\n",
      "193/193 [==============================] - 124s 613ms/step - loss: 0.9079 - accuracy: 0.6512 - val_loss: 1.1890 - val_accuracy: 0.5997\n",
      "Epoch 35/100\n",
      "193/193 [==============================] - 124s 612ms/step - loss: 0.9105 - accuracy: 0.6512 - val_loss: 1.1829 - val_accuracy: 0.6090\n",
      "Epoch 36/100\n",
      "193/193 [==============================] - 123s 607ms/step - loss: 0.9016 - accuracy: 0.6564 - val_loss: 1.1801 - val_accuracy: 0.6117\n",
      "Epoch 37/100\n",
      "193/193 [==============================] - 123s 607ms/step - loss: 0.8674 - accuracy: 0.6684 - val_loss: 1.1723 - val_accuracy: 0.6037\n",
      "Epoch 38/100\n",
      "193/193 [==============================] - 122s 599ms/step - loss: 0.8713 - accuracy: 0.6622 - val_loss: 1.1805 - val_accuracy: 0.6090\n",
      "Epoch 39/100\n",
      "193/193 [==============================] - 121s 600ms/step - loss: 0.8721 - accuracy: 0.6788 - val_loss: 1.1636 - val_accuracy: 0.6184\n",
      "Epoch 40/100\n",
      "193/193 [==============================] - 122s 601ms/step - loss: 0.8300 - accuracy: 0.6804 - val_loss: 1.1810 - val_accuracy: 0.6011\n",
      "Epoch 41/100\n",
      "193/193 [==============================] - 120s 595ms/step - loss: 0.8549 - accuracy: 0.6785 - val_loss: 1.1566 - val_accuracy: 0.6130\n",
      "Epoch 42/100\n",
      "193/193 [==============================] - 121s 602ms/step - loss: 0.8183 - accuracy: 0.6821 - val_loss: 1.1335 - val_accuracy: 0.6223\n",
      "Epoch 43/100\n",
      "193/193 [==============================] - 137s 680ms/step - loss: 0.8105 - accuracy: 0.6918 - val_loss: 1.1854 - val_accuracy: 0.6130\n",
      "Epoch 44/100\n",
      "193/193 [==============================] - 121s 599ms/step - loss: 0.8015 - accuracy: 0.6990 - val_loss: 1.1440 - val_accuracy: 0.6197\n",
      "Epoch 45/100\n",
      "193/193 [==============================] - 120s 592ms/step - loss: 0.8005 - accuracy: 0.6895 - val_loss: 1.1484 - val_accuracy: 0.6104\n",
      "Epoch 46/100\n",
      "193/193 [==============================] - 120s 592ms/step - loss: 0.7912 - accuracy: 0.7006 - val_loss: 1.1786 - val_accuracy: 0.5904\n",
      "Epoch 47/100\n",
      "193/193 [==============================] - 120s 596ms/step - loss: 0.7770 - accuracy: 0.7009 - val_loss: 1.1490 - val_accuracy: 0.6144\n",
      "\n",
      "Epoch 00047: ReduceLROnPlateau reducing learning rate to 9.999999747378752e-07.\n",
      "Epoch 48/100\n",
      "193/193 [==============================] - 119s 588ms/step - loss: 0.7643 - accuracy: 0.7113 - val_loss: 1.1282 - val_accuracy: 0.6157\n",
      "Epoch 49/100\n",
      "193/193 [==============================] - 118s 582ms/step - loss: 0.7536 - accuracy: 0.7048 - val_loss: 1.1385 - val_accuracy: 0.6277\n",
      "Epoch 50/100\n",
      "193/193 [==============================] - 119s 590ms/step - loss: 0.7678 - accuracy: 0.7048 - val_loss: 1.1450 - val_accuracy: 0.6370\n",
      "Epoch 51/100\n",
      "193/193 [==============================] - 118s 585ms/step - loss: 0.7422 - accuracy: 0.7175 - val_loss: 1.1568 - val_accuracy: 0.6250\n",
      "Epoch 52/100\n",
      "193/193 [==============================] - 136s 676ms/step - loss: 0.7433 - accuracy: 0.7204 - val_loss: 1.1529 - val_accuracy: 0.6263\n",
      "Epoch 53/100\n",
      "193/193 [==============================] - 120s 592ms/step - loss: 0.7609 - accuracy: 0.7074 - val_loss: 1.1512 - val_accuracy: 0.6250\n",
      "\n",
      "Epoch 00053: ReduceLROnPlateau reducing learning rate to 9.999999974752428e-08.\n",
      "Epoch 54/100\n",
      "193/193 [==============================] - 120s 597ms/step - loss: 0.7848 - accuracy: 0.6996 - val_loss: 1.1498 - val_accuracy: 0.6210\n",
      "Epoch 55/100\n",
      "193/193 [==============================] - 120s 591ms/step - loss: 0.7512 - accuracy: 0.7183 - val_loss: 1.1523 - val_accuracy: 0.6170\n",
      "Epoch 56/100\n",
      "193/193 [==============================] - 118s 584ms/step - loss: 0.7407 - accuracy: 0.7129 - val_loss: 1.1365 - val_accuracy: 0.6223\n",
      "Epoch 57/100\n",
      "193/193 [==============================] - 118s 579ms/step - loss: 0.7429 - accuracy: 0.7094 - val_loss: 1.1492 - val_accuracy: 0.6144\n",
      "Epoch 58/100\n",
      "193/193 [==============================] - 134s 666ms/step - loss: 0.7476 - accuracy: 0.7172 - val_loss: 1.1687 - val_accuracy: 0.6170\n",
      "\n",
      "Epoch 00058: ReduceLROnPlateau reducing learning rate to 1.0000000116860975e-08.\n",
      "Restoring model weights from the end of the best epoch.\n",
      "Epoch 00058: early stopping\n"
     ]
    }
   ],
   "source": [
    "#training\n",
    "\n",
    "n_epoch = 100 #Your Own Epoch num\n",
    "\n",
    "# Reduce the learning rate by 0.1 if there aren't any improvements in the last 5 epochs\n",
    "reduce_learning_rate = ReduceLROnPlateau(monitor='val_loss', factor = 0.1, patience = 5, verbose = 1)\n",
    "\n",
    "# Stop early if there aren't any improvements in the last 10 epochs\n",
    "early_stop = EarlyStopping(monitor='val_loss', patience = 10, verbose=1, mode = 'auto', restore_best_weights = True)\n",
    "\n",
    "history = model.fit_generator(generator = train_generator, steps_per_epoch=STEP_SIZE_TRAIN,\n",
    "                              validation_data=valid_generator, validation_steps=STEP_SIZE_VALID,\n",
    "                              epochs=n_epoch,\n",
    "                              class_weight = class_weights, \n",
    "                              shuffle = True, \n",
    "                              verbose=1, \n",
    "                              callbacks = [reduce_learning_rate, early_stop],\n",
    "                              use_multiprocessing = True, \n",
    "                              workers = 16) #you can add kwargs if you want"
   ]
  },
  {
   "cell_type": "code",
   "execution_count": 12,
   "metadata": {
    "colab": {
     "base_uri": "https://localhost:8080/",
     "height": 336
    },
    "id": "4PEwQXr3SbNS",
    "outputId": "406f32cd-2e02-452d-cc2a-92746def6bf4"
   },
   "outputs": [
    {
     "data": {
      "image/png": "[encoded data removed]",
      "text/plain": [
       "<Figure size 1080x360 with 2 Axes>"
      ]
     },
     "metadata": {
      "needs_background": "light",
      "tags": []
     },
     "output_type": "display_data"
    }
   ],
   "source": [
    "his = {}\n",
    "his['loss'] = history.history['loss']\n",
    "his['accuracy'] = history.history['accuracy'] \n",
    "his['val_loss'] = history.history['val_loss']\n",
    "his['val_accuracy'] = history.history['val_accuracy']\n",
    "\n",
    "# Plot the training graph\n",
    "def plot_training(history):\n",
    "    acc = history['accuracy']\n",
    "    val_acc = history['val_accuracy']\n",
    "    loss = history['loss']\n",
    "    val_loss = history['val_loss']\n",
    "    epochs = range(len(acc))\n",
    "\n",
    "    fig, axes = plt.subplots(1, 2, figsize=(15,5))\n",
    "    \n",
    "    axes[0].plot(epochs, acc, 'r-', label='Training Accuracy')\n",
    "    axes[0].plot(epochs, val_acc, 'b--', label='Validation Accuracy')\n",
    "    axes[0].set_title('Training and Validation Accuracy')\n",
    "    axes[0].legend(loc='best')\n",
    "\n",
    "    axes[1].plot(epochs, loss, 'r-', label='Training Loss')\n",
    "    axes[1].plot(epochs, val_loss, 'b--', label='Validation Loss')\n",
    "    axes[1].set_title('Training and Validation Loss')\n",
    "    axes[1].legend(loc='best')\n",
    "    \n",
    "    plt.show()\n",
    "    \n",
    "plot_training(his)"
   ]
  },
  {
   "cell_type": "code",
   "execution_count": 13,
   "metadata": {
    "colab": {
     "base_uri": "https://localhost:8080/"
    },
    "id": "IIy3ep-XSbNU",
    "outputId": "a55ac617-f5b1-46ba-cf10-bafd42cdcbb2"
   },
   "outputs": [
    {
     "name": "stderr",
     "output_type": "stream",
     "text": [
      "WARNING:absl:Found untraced functions such as conv2d_1_layer_call_fn, conv2d_1_layer_call_and_return_conditional_losses, conv2d_2_layer_call_fn, conv2d_2_layer_call_and_return_conditional_losses, conv2d_3_layer_call_fn while saving (showing 5 of 260). These functions will not be directly callable after loading.\n"
     ]
    },
    {
     "name": "stdout",
     "output_type": "stream",
     "text": [
      "INFO:tensorflow:Assets written to: MyModel_ver3/assets\n"
     ]
    },
    {
     "name": "stderr",
     "output_type": "stream",
     "text": [
      "INFO:tensorflow:Assets written to: MyModel_ver3/assets\n"
     ]
    }
   ],
   "source": [
    "model.save(\"MyModel_ver3\")"
   ]
  },
  {
   "cell_type": "code",
   "execution_count": 15,
   "metadata": {
    "colab": {
     "base_uri": "https://localhost:8080/"
    },
    "id": "Q2qplItAnpHe",
    "outputId": "3e00058b-fb5e-487a-a5a1-490b2343aad2"
   },
   "outputs": [
    {
     "name": "stdout",
     "output_type": "stream",
     "text": [
      "194/194 [==============================] - 96s 496ms/step - loss: 0.6318 - accuracy: 0.8102\n",
      "Training evaluation: [0.6317920088768005, 0.8101552128791809]\n"
     ]
    }
   ],
   "source": [
    "output = model.evaluate(train_generator)\n",
    "print(\"Training evaluation:\", output)"
   ]
  },
  {
   "cell_type": "code",
   "execution_count": 16,
   "metadata": {
    "colab": {
     "base_uri": "https://localhost:8080/"
    },
    "id": "QhROu78CG44F",
    "outputId": "0a3eae0e-8f87-4010-94f2-450c63232330"
   },
   "outputs": [
    {
     "name": "stdout",
     "output_type": "stream",
     "text": [
      "48/48 [==============================] - 24s 492ms/step - loss: 1.1515 - accuracy: 0.6258\n",
      "Validation evaluation: [1.1515074968338013, 0.6258148550987244]\n"
     ]
    }
   ],
   "source": [
    "output = model.evaluate(valid_generator)\n",
    "print(\"Validation evaluation:\", output)"
   ]
  }
 ],
 "metadata": {
  "accelerator": "GPU",
  "colab": {
   "collapsed_sections": [],
   "name": "AIP2_20202026_Train.ipynb",
   "provenance": []
  },
  "kernelspec": {
   "display_name": "Python 3",
   "language": "python",
   "name": "python3"
  },
  "language_info": {
   "codemirror_mode": {
    "name": "ipython",
    "version": 3
   },
   "file_extension": ".py",
   "mimetype": "text/x-python",
   "name": "python",
   "nbconvert_exporter": "python",
   "pygments_lexer": "ipython3",
   "version": "3.9.0"
  }
 },
 "nbformat": 4,
 "nbformat_minor": 1
}
