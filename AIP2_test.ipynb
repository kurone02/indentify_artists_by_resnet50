{
 "cells": [
  {
   "cell_type": "code",
   "execution_count": 1,
   "metadata": {
    "id": "7sgNTxHA6ml-"
   },
   "outputs": [],
   "source": [
    "#Import libralies\n",
    "import pandas as pd\n",
    "import numpy as np\n",
    "import matplotlib.pyplot as plt\n",
    "import json\n",
    "import os\n",
    "from tqdm import tqdm, tqdm_notebook\n",
    "import random\n",
    "\n",
    "import tensorflow as tf\n",
    "\n",
    "from tensorflow.keras.preprocessing.image import ImageDataGenerator\n",
    "from tensorflow.keras.models import Model, Sequential\n",
    "from tensorflow.keras.layers import *\n",
    "from tensorflow.keras.optimizers import *\n",
    "from tensorflow.keras.applications import *\n",
    "from tensorflow.keras.callbacks import *\n",
    "from tensorflow.keras.initializers import *\n",
    "\n",
    "#You can import other libraries if you need"
   ]
  },
  {
   "cell_type": "code",
   "execution_count": 2,
   "metadata": {
    "id": "Elo-gB8V6mmE"
   },
   "outputs": [],
   "source": [
    "###### DO NOT MODIFY THIS PART\n",
    "seed = 42\n",
    "os.environ['PYTHONHASHSEED'] = str(seed)\n",
    "np.random.seed(seed)\n",
    "tf.random.set_seed(seed)\n",
    "random.seed(seed)\n",
    "from keras import backend as K\n",
    "session_conf = tf.compat.v1.ConfigProto(intra_op_parallelism_threads=1, inter_op_parallelism_threads=1)\n",
    "sess = tf.compat.v1.Session(graph=tf.compat.v1.get_default_graph(), config=session_conf)\n",
    "K.set_session(sess)\n",
    "######"
   ]
  },
  {
   "cell_type": "code",
   "execution_count": 3,
   "metadata": {
    "id": "tkmpMdgf6mmE"
   },
   "outputs": [],
   "source": [
    "artists = pd.read_csv('./grading/artists.csv')\n",
    "# Sort artists by number of paintings\n",
    "artists = artists.sort_values(by=['paintings'], ascending=False)\n",
    "\n",
    "# Create a dataframe with artists having more than 200 paintings\n",
    "artists_top = artists[artists['paintings'] >= 0].reset_index()\n",
    "artists_top = artists_top[['name', 'paintings']]\n",
    "\n",
    "updated_name = \"Albrecht_Dürer\".replace(\"_\", \" \")\n",
    "artists_top.iloc[4, 0] = updated_name\n",
    "# Explore images of top artists\n",
    "images_dir = './grading/images/' #Type Your Own Data Directory\n",
    "artists_dirs = os.listdir(images_dir)\n",
    "artists_top_name = artists_top['name'].str.replace(' ', '_').values"
   ]
  },
  {
   "cell_type": "code",
   "execution_count": 4,
   "metadata": {
    "colab": {
     "base_uri": "https://localhost:8080/"
    },
    "id": "vYRWuiCI6mmF",
    "outputId": "e3d2a6d3-bbd0-45a5-f8ec-0ab38f42661b"
   },
   "outputs": [
    {
     "name": "stdout",
     "output_type": "stream",
     "text": [
      "Found 220 images belonging to 1 classes.\n"
     ]
    }
   ],
   "source": [
    "#Test set load\n",
    "\n",
    "images_dir = './grading/images/'\n",
    "artists_dirs = os.listdir(images_dir)\n",
    "artists_top_name = artists_top['name'].str.replace(' ', '_').values\n",
    "\n",
    "input_shape = (224, 224, 3,) #Same as input_shape in your train code\n",
    "n_classes = artists_top.shape[0]\n",
    "\n",
    "test_datagen = ImageDataGenerator(validation_split=0.2,\n",
    "                                   rescale = 1 / 255,\n",
    "                                   shear_range = 5,\n",
    "                                   horizontal_flip=True,\n",
    "                                   vertical_flip=True)\n",
    "\n",
    "test_generator = test_datagen.flow_from_directory(directory=images_dir,\n",
    "                                                    class_mode='categorical',\n",
    "                                                    target_size=input_shape[:2],\n",
    "                                                    batch_size=1,\n",
    "                                                    shuffle=False,\n",
    "                                                    seed=seed,\n",
    "                                                   )"
   ]
  },
  {
   "cell_type": "code",
   "execution_count": 5,
   "metadata": {
    "id": "gvrmPxms6mmF"
   },
   "outputs": [],
   "source": [
    "model = tf.keras.models.load_model(\"MyModel_ver3\")\n",
    "  \n",
    "test_generator.reset()\n",
    "output = model.predict(test_generator, steps=test_generator.n)\n",
    "output = np.argmax(output, axis=-1)\n",
    "prediction = pd.DataFrame(output, index=test_generator.filenames, columns=['predictions']).sort_index().to_csv('20202026_output.csv')"
   ]
  },
  {
   "cell_type": "code",
   "execution_count": null,
   "metadata": {},
   "outputs": [],
   "source": []
  }
 ],
 "metadata": {
  "accelerator": "GPU",
  "colab": {
   "collapsed_sections": [],
   "name": "AIP2_20202026_Test.ipynb",
   "provenance": []
  },
  "kernelspec": {
   "display_name": "Python 3",
   "language": "python",
   "name": "python3"
  },
  "language_info": {
   "codemirror_mode": {
    "name": "ipython",
    "version": 3
   },
   "file_extension": ".py",
   "mimetype": "text/x-python",
   "name": "python",
   "nbconvert_exporter": "python",
   "pygments_lexer": "ipython3",
   "version": "3.9.0"
  }
 },
 "nbformat": 4,
 "nbformat_minor": 1
}
